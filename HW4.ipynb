{
 "cells": [
  {
   "cell_type": "code",
   "execution_count": null,
   "metadata": {},
   "outputs": [
    {
     "name": "stdout",
     "output_type": "stream",
     "text": [
      "Welcome to 'Guess My Number!'\n",
      "I'm thinking of a number between 1 and 100.\n",
      "Try to guess my number in as few attempts as possible.\n",
      "Take a guess:4\n",
      "Higher...\n",
      "Take a guess:30\n",
      "Higher...\n",
      "Take a guess:50\n",
      "Higher...\n",
      "Take a guess:70\n",
      "Lower...\n",
      "Take a guess:65\n",
      "Lower...\n",
      "Take a guess:60\n",
      "Lower...\n",
      "Take a guess:55\n",
      "Higher...\n",
      "Take a guess:57\n",
      "You guessed it! The number was 57\n",
      "And it only took you 8 tries!\n"
     ]
    }
   ],
   "source": [
    "#Import the random module\n",
    "import random\n",
    "#Welcome the player and introduce the game\n",
    "print(\"Welcome to 'Guess My Number!'\")\n",
    "print(\"I'm thinking of a number between 1 and 100.\")\n",
    "print(\"Try to guess my number in as few attempts as possible.\")\n",
    "#Set the initial values of the game\n",
    "the_number = random.randrange(100) + 1\n",
    "guess = int(input(\"Take a guess:\"))\n",
    "tries = 1\n",
    "#Start guessing loop\n",
    "while (guess!=the_number):\n",
    "    if(guess > the_number):\n",
    "        print(\"Lower...\")\n",
    "    else:\n",
    "        print(\"Higher...\")\n",
    "    guess = int(input(\"Take a guess:\"))\n",
    "    tries += 1\n",
    "#Congratulate the player\n",
    "print(\"You guessed it! The number was\", the_number)\n",
    "print(\"And it only took you\", tries, \"tries!\")\n",
    "#Allow the player to quit\n",
    "input(\"Press the enter key to exit.\")"
   ]
  },
  {
   "cell_type": "code",
   "execution_count": null,
   "metadata": {},
   "outputs": [],
   "source": []
  }
 ],
 "metadata": {
  "kernelspec": {
   "display_name": "Python 3",
   "language": "python",
   "name": "python3"
  },
  "language_info": {
   "codemirror_mode": {
    "name": "ipython",
    "version": 3
   },
   "file_extension": ".py",
   "mimetype": "text/x-python",
   "name": "python",
   "nbconvert_exporter": "python",
   "pygments_lexer": "ipython3",
   "version": "3.7.1"
  }
 },
 "nbformat": 4,
 "nbformat_minor": 2
}
