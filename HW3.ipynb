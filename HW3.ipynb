{
 "cells": [
  {
   "cell_type": "code",
   "execution_count": 1,
   "metadata": {},
   "outputs": [
    {
     "name": "stdout",
     "output_type": "stream",
     "text": [
      "Please input a rating for a particular asset. The rating should be between 0 and 10: 4\n",
      "Please input the price of the same asset. The price should be between $100,000 and $2,000,000: 15\n",
      "Buy\n"
     ]
    }
   ],
   "source": [
    "#factor=123000\n",
    "factor = 123000\n",
    "#get rating from user (rating should be between 0-10)\n",
    "rating = int(input(\"Please input a rating for a particular asset. The rating should be between 0 and 10: \"))\n",
    "#get price from user (price should be between $100,000 and $2 million)\n",
    "price = int(input(\"Please input the price of the same asset. The price should be between $100,000 and $2,000,000: \"))\n",
    "#make buy or don't buy decision\n",
    "    #if the price is lower than the (rating*factor), buy\n",
    "if price<(rating*factor):\n",
    "    print(\"Buy\")\n",
    "    #if the price is higher than the (rating*factor), don't buy\n",
    "if price>(rating*factor):\n",
    "    print(\"Don't Buy\")"
   ]
  },
  {
   "cell_type": "code",
   "execution_count": null,
   "metadata": {},
   "outputs": [],
   "source": []
  }
 ],
 "metadata": {
  "kernelspec": {
   "display_name": "Python 3",
   "language": "python",
   "name": "python3"
  },
  "language_info": {
   "codemirror_mode": {
    "name": "ipython",
    "version": 3
   },
   "file_extension": ".py",
   "mimetype": "text/x-python",
   "name": "python",
   "nbconvert_exporter": "python",
   "pygments_lexer": "ipython3",
   "version": "3.7.1"
  }
 },
 "nbformat": 4,
 "nbformat_minor": 2
}
