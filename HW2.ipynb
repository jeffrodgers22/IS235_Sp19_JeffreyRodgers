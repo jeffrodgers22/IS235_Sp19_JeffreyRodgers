{
 "cells": [
  {
   "cell_type": "code",
   "execution_count": null,
   "metadata": {},
   "outputs": [
    {
     "name": "stdout",
     "output_type": "stream",
     "text": [
      "Please input a message.Fairfield Univeristy\n",
      "Inputted_Message 19 y\n",
      "Inputted_Message 18 t\n",
      "Inputted_Message 17 s\n",
      "Inputted_Message 16 i\n",
      "Inputted_Message 15 r\n",
      "Inputted_Message 14 e\n",
      "Inputted_Message 13 v\n",
      "Inputted_Message 12 i\n",
      "Inputted_Message 11 n\n",
      "Inputted_Message 10 U\n",
      "Inputted_Message 9  \n",
      "Inputted_Message 8 d\n",
      "Inputted_Message 7 l\n",
      "Inputted_Message 6 e\n",
      "Inputted_Message 5 i\n",
      "Inputted_Message 4 f\n",
      "Inputted_Message 3 r\n",
      "Inputted_Message 2 i\n",
      "Inputted_Message 1 a\n",
      "Inputted_Message 0 F\n"
     ]
    }
   ],
   "source": [
    "Inputted_Message = input(\"Please input a message.\")\n",
    "high=len(Inputted_Message)\n",
    "low=-len(Inputted_Message)\n",
    "position=high-1\n",
    "for x in range(len(Inputted_Message)):\n",
    "    print(\"Inputted_Message\", position, Inputted_Message[position])\n",
    "    position-=1\n",
    "input(\"Press enter to exit.\")"
   ]
  },
  {
   "cell_type": "code",
   "execution_count": null,
   "metadata": {},
   "outputs": [],
   "source": []
  }
 ],
 "metadata": {
  "kernelspec": {
   "display_name": "Python 3",
   "language": "python",
   "name": "python3"
  },
  "language_info": {
   "codemirror_mode": {
    "name": "ipython",
    "version": 3
   },
   "file_extension": ".py",
   "mimetype": "text/x-python",
   "name": "python",
   "nbconvert_exporter": "python",
   "pygments_lexer": "ipython3",
   "version": "3.7.1"
  }
 },
 "nbformat": 4,
 "nbformat_minor": 2
}
