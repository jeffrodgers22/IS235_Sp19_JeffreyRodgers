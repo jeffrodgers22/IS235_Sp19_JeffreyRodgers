{
 "cells": [
  {
   "cell_type": "code",
   "execution_count": 1,
   "metadata": {},
   "outputs": [
    {
     "name": "stdout",
     "output_type": "stream",
     "text": [
      "Please type in a sentence and press the 'enter' key. Hello my name is jeff\n",
      "H\n",
      "e\n",
      "l\n",
      "l\n",
      "o\n",
      " \n",
      "m\n",
      "y\n",
      " \n",
      "n\n",
      "a\n",
      "m\n",
      "e\n",
      " \n",
      "i\n",
      "s\n",
      " \n",
      "j\n",
      "e\n",
      "f\n",
      "f\n",
      "Your vowels are: eoaeie\n",
      "Your consonants are: Hllmynmsjff\n",
      "Your other characters are:     \n",
      "Number of vowels = 6\n",
      "Number of consonants = 11\n",
      "Number of other characters = 4\n",
      "Please press the 'enter' key to exit.\n"
     ]
    },
    {
     "data": {
      "text/plain": [
       "''"
      ]
     },
     "execution_count": 1,
     "metadata": {},
     "output_type": "execute_result"
    }
   ],
   "source": [
    "#Get a sentence from the user and store that sentence as a variable\n",
    "sentence1 = input(\"Please type in a sentence and press the 'enter' key. \")\n",
    "#Create variables to house the user's modified sentences\n",
    "sentence2 = \"\"\n",
    "sentence3 = \"\"\n",
    "sentence4 = \"\"\n",
    "#Find the length of the user's sentence and store it as a variable\n",
    "length = len(sentence1)\n",
    "#Define which characters are vowels\n",
    "VOWELS = \"aieouAEIOU\"\n",
    "#Define which characters are consonants\n",
    "CONSONANTS = \"bcdfghjklmnpqrstvwxyzBCDFGHJKLMNPQRSTVWXYZ\"\n",
    "#Create a variable to house the number of vowels in the user's sentence\n",
    "vowel_count = 0\n",
    "#Create a variable to house the number of consonants in the user's sentence\n",
    "consonant_count = 0 \n",
    "#Create a variable to house the number of other characters in the user's sentence\n",
    "other_count = 0\n",
    "#Loop from 0 to length of sentence\n",
    "for i in range(length):\n",
    "    #If vowel, print that vowel, add that vowel to the new string, and count the number of vowels so far\n",
    "    if sentence1[i] in VOWELS:\n",
    "        print(sentence1[i])\n",
    "        sentence2+=sentence1[i]\n",
    "        vowel_count+=1\n",
    "    #If consonant, print that consonant and count the number of consonants so far\n",
    "    elif sentence1[i] in CONSONANTS:\n",
    "        print(sentence1[i])\n",
    "        sentence3+=sentence1[i]\n",
    "        consonant_count+=1\n",
    "    #If other character, print that other character and count the number of other characters so far\n",
    "    else:\n",
    "        print(sentence1[i])\n",
    "        sentence4+=sentence1[i]\n",
    "        other_count+=1\n",
    "#Print new sentences\n",
    "print (\"Your vowels are:\", sentence2)\n",
    "print (\"Your consonants are:\", sentence3)\n",
    "print (\"Your other characters are:\", sentence4)\n",
    "#Print the number of vowels\n",
    "print (\"Number of vowels =\", vowel_count)\n",
    "#Print the number of consonants\n",
    "print (\"Number of consonants =\", consonant_count)\n",
    "#Print the number of other characters\n",
    "print (\"Number of other characters =\", other_count)\n",
    "#Allow user to exit\n",
    "input(\"Please press the 'enter' key to exit.\")"
   ]
  },
  {
   "cell_type": "code",
   "execution_count": null,
   "metadata": {},
   "outputs": [],
   "source": []
  }
 ],
 "metadata": {
  "kernelspec": {
   "display_name": "Python 3",
   "language": "python",
   "name": "python3"
  },
  "language_info": {
   "codemirror_mode": {
    "name": "ipython",
    "version": 3
   },
   "file_extension": ".py",
   "mimetype": "text/x-python",
   "name": "python",
   "nbconvert_exporter": "python",
   "pygments_lexer": "ipython3",
   "version": "3.7.1"
  }
 },
 "nbformat": 4,
 "nbformat_minor": 2
}
