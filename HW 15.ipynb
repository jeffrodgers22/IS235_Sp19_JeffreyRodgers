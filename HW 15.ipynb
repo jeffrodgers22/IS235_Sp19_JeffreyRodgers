{
 "cells": [
  {
   "cell_type": "code",
   "execution_count": null,
   "metadata": {},
   "outputs": [
    {
     "name": "stdout",
     "output_type": "stream",
     "text": [
      "High Scores Keeper 0 - Exit 1 - Show Scores 2 - Add a Score\n",
      "Choice: 2\n",
      "What is the player's name?:Jeff\n",
      "What score did you get?:100\n",
      "High Scores Keeper 0 - Exit 1 - Show Scores 2 - Add a Score\n",
      "Choice: 0\n",
      "Good-bye.\n"
     ]
    }
   ],
   "source": [
    "scores = []\n",
    "choice = None\n",
    "\n",
    "while choice != \"0\":\n",
    "    print(\"High Scores Keeper 0 - Exit 1 - Show Scores 2 - Add a Score\")\n",
    "    choice = input(\"Choice: \")\n",
    "    \n",
    "    #Exit\n",
    "    if choice == \"0\":\n",
    "        print(\"Good-bye.\")\n",
    "        \n",
    "    #List high score table\n",
    "    elif choice == \"1\":\n",
    "        print(\"NAME/tSCORE\")\n",
    "        for entry in scores:\n",
    "            score, name = entry\n",
    "            print(name, \"\\t\", score)\n",
    "            \n",
    "    #Add a score\n",
    "    elif choice == \"2\":\n",
    "        name = input(\"What is the player's name?:\")\n",
    "        score = int(input(\"What score did you get?:\"))\n",
    "        entry = (score, name)\n",
    "        scores.append(entry)\n",
    "        scores.sort()\n",
    "        scores.reverse() #want the highest number first\n",
    "        scores = scores[:5] #keep only the top 5 scores\n",
    "        \n",
    "    #Some unknown choice\n",
    "    else:\n",
    "        print(\"Sorry, but\", choice, \"isn't a vaild choice.\")\n",
    "    \n",
    "input(\"Press the enter key to exit.\")"
   ]
  },
  {
   "cell_type": "code",
   "execution_count": null,
   "metadata": {},
   "outputs": [],
   "source": []
  }
 ],
 "metadata": {
  "kernelspec": {
   "display_name": "Python 3",
   "language": "python",
   "name": "python3"
  },
  "language_info": {
   "codemirror_mode": {
    "name": "ipython",
    "version": 3
   },
   "file_extension": ".py",
   "mimetype": "text/x-python",
   "name": "python",
   "nbconvert_exporter": "python",
   "pygments_lexer": "ipython3",
   "version": "3.7.1"
  }
 },
 "nbformat": 4,
 "nbformat_minor": 2
}
